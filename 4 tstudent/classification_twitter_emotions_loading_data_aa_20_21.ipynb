{
  "cells": [
    {
      "cell_type": "markdown",
      "metadata": {
        "id": "7vWhC1-mMyop"
      },
      "source": [
        "# # Classifiers comparison on texts with naive Bayes assumption\n",
        "\n",
        "In this session of laboratory we compare two models for categorical data probabilistic modeling:\n",
        "1. multivariate Bernoulli\n",
        "2. multinomial on a dataset\n",
        "\n",
        "We adopt a dataset on Twitter messages labelled with emotions (Joy vs Sadness).\n",
        "\n",
        "The following program shows the loading of the data from a file."
      ]
    },
    {
      "cell_type": "markdown",
      "metadata": {
        "id": "i70pgsCOMyop"
      },
      "source": [
        "Data are loaded into a matrix X adopting a sparse matrix representation, in order to save space and time.\n",
        "Sparse matrix representation (in the csr format) represents in three \"parallel\" arrays the value of the matrix cells that are different from zero and the indices of those matrix cells.\n",
        "The arrays are called:\n",
        "- data\n",
        "- row\n",
        "- col\n",
        "\n",
        "- data[i] stores the value of the matrix cell #i whose indexes are contained in row[i] and col[i]\n",
        "- row[i] stores the index of the row in the matrix of the cell #i,\n",
        "- col[i] stores the index of the column of the cell #i.\n"
      ]
    },
    {
      "cell_type": "markdown",
      "metadata": {
        "id": "Sktoeaw5Myop"
      },
      "source": [
        "The data file is in csv format.\n",
        "Any Twitter message has been preprocessed by a Natural Language pipeline which eliminated stop words and substituted the interesting document elements with an integer identifier.  \n",
        "The interesting document elements might be words, emoji or emoticons. The elements could be repeated in the same document and are uniquely identified in the documents by the same integer number (named \"element_id\" in the program). This \"element_id\" number will be used as the index of the column of the data matrix, for the purposes of storage of data.\n",
        "\n",
        "Each row of the CSV file reports the content of a document (a Twitter message).It is formed as a list of integer number pairs, followed by a string which is the label of the document (\"Joy\" or \"Sadness\").\n",
        "The first number of the pair is the identifier of a document element (the \"element_id\");\n",
        "the second number of the pair is the count (frequency) of that element in that document.\n",
        "\n",
        "The dataset has:\n",
        "\n",
        "tot_n_docs (or rows in the file) =n_rows=11981\n",
        "\n",
        "n_features (total number of distinct words in the corpus)=11288\n",
        "\n"
      ]
    },
    {
      "cell_type": "markdown",
      "metadata": {
        "collapsed": true,
        "id": "Phlf-MPAMyop"
      },
      "source": [
        "The following program reads the data file and loads in a sparse way the matrix using the scipy.sparse library"
      ]
    },
    {
      "cell_type": "code",
      "source": [
        "import numpy as np\n",
        "from scipy.sparse import csr_matrix\n",
        "\n",
        "class_labels = [\"Joy\", \"Sadness\"]\n",
        "n_features = 11288  # Numero di colonne della matrice (feature uniche nel corpus)\n",
        "n_rows = 11981  # Numero di righe della matrice (tweet nel dataset)\n",
        "n_elements = 71474  # Numero di elementi diversi da zero da caricare (sparse)\n",
        "\n",
        "# Percorso e nome file\n",
        "path_training=\"./sample_data/\"\n",
        "file_name = \"joy_sadness6000.txt\"\n",
        "\n",
        "# Dichiarazione degli array per la matrice sparsa\n",
        "row = np.empty(n_elements, dtype=int)\n",
        "col = np.empty(n_elements, dtype=int)\n",
        "data = np.empty(n_elements, dtype=int)\n",
        "\n",
        "row_n = 0  # Contatore della riga corrente\n",
        "cur_el = 0  # Contatore della posizione negli array sparse\n",
        "twitter_labels = []  # Etichette testuali dei tweet (Joy/Sadness)\n",
        "twitter_target = []  # Etichette numeriche (0=Joy, 1=Sadness)\n",
        "\n",
        "# Lettura del file\n",
        "with open(path_training + file_name, \"r\") as fi:\n",
        "    for line_number, line in enumerate(fi):\n",
        "        el_list = line.strip().split(',')  # Lista di elementi nella riga\n",
        "        l = len(el_list)\n",
        "\n",
        "        if l < 2:  # Se la riga è vuota o ha un formato errato\n",
        "            print(f\"Errore: Riga {line_number} malformata -> {line}\")\n",
        "            continue\n",
        "\n",
        "        # Estraggo l'ultima colonna (etichetta Joy/Sadness)\n",
        "        class_name = el_list[-1].strip()\n",
        "        twitter_labels.append(class_name)\n",
        "        twitter_target.append(0 if class_name == class_labels[0] else 1)\n",
        "\n",
        "        i = 0  # Indice per scorrere gli elementi del tweet\n",
        "        while i < (l - 1):  # Ultimo elemento è la label, quindi escludo\n",
        "            try:\n",
        "                element_id = int(el_list[i]) - 1  # ID dell'elemento, reso 0-based\n",
        "                i += 1\n",
        "                value_cell = int(el_list[i])  # Numero di occorrenze dell'elemento\n",
        "                i += 1\n",
        "\n",
        "                # Controllo che gli indici siano nel range corretto\n",
        "                if row_n >= n_rows:\n",
        "                    print(f\"Errore: row_n={row_n} supera n_rows={n_rows} (linea {line_number})\")\n",
        "                    break\n",
        "                if cur_el >= n_elements:\n",
        "                    print(f\"Errore: cur_el={cur_el} supera n_elements={n_elements} (linea {line_number})\")\n",
        "                    break\n",
        "                if element_id < 0 or element_id >= n_features:\n",
        "                    print(f\"Errore: element_id={element_id} fuori range (0-{n_features-1}) (linea {line_number})\")\n",
        "                    continue  # Ignoro il valore fuori range\n",
        "\n",
        "                # Carico i dati negli array per la matrice sparsa\n",
        "                row[cur_el] = row_n\n",
        "                col[cur_el] = element_id\n",
        "                data[cur_el] = value_cell\n",
        "                cur_el += 1\n",
        "\n",
        "            except ValueError as e:\n",
        "                print(f\"Errore di conversione nella riga {line_number}: {line}\")\n",
        "                print(f\"Dettaglio errore: {e}\")\n",
        "\n",
        "        row_n += 1  # Passo alla riga successiva\n",
        "\n",
        "# Creazione della matrice sparsa\n",
        "twitter_data = csr_matrix((data[:cur_el], (row[:cur_el], col[:cur_el])), shape=(n_rows, n_features)).toarray()\n",
        "\n",
        "# Output finale\n",
        "print(\"Matrice risultante:\")\n",
        "print(twitter_data)\n",
        "print(\"Etichette:\", twitter_labels[:10])  # Stampa solo le prime 10\n",
        "print(\"Target numerico:\", twitter_target[:10])"
      ],
      "metadata": {
        "colab": {
          "base_uri": "https://localhost:8080/"
        },
        "id": "Q8lCEMzWQzdj",
        "outputId": "c0f18f9d-3ff8-49de-9264-a6049e475db6"
      },
      "execution_count": null,
      "outputs": [
        {
          "output_type": "stream",
          "name": "stdout",
          "text": [
            "Matrice risultante:\n",
            "[[1 1 1 ... 0 0 0]\n",
            " [0 0 0 ... 0 0 0]\n",
            " [0 0 0 ... 0 0 0]\n",
            " ...\n",
            " [0 0 0 ... 0 0 1]\n",
            " [0 0 0 ... 0 0 0]\n",
            " [0 1 0 ... 0 0 0]]\n",
            "Etichette: ['Joy', 'Joy', 'Joy', 'Joy', 'Joy', 'Joy', 'Joy', 'Joy', 'Joy', 'Joy']\n",
            "Target numerico: [0, 0, 0, 0, 0, 0, 0, 0, 0, 0]\n"
          ]
        }
      ]
    },
    {
      "cell_type": "markdown",
      "metadata": {
        "collapsed": true,
        "id": "v4FHZONyMyoq"
      },
      "source": [
        "Write a program in the following cell that splits the data matrix in training and test set (by random selection) and predicts the class (Joy/Sadness) of the messages on the basis of the words.\n",
        "Consider the two possible models:\n",
        "multivariate Bernoulli and multinomial Bernoulli.\n",
        "Find the accuracy of the models and test is the observed differences are significant."
      ]
    },
    {
      "cell_type": "code",
      "source": [
        "import numpy as np\n",
        "from sklearn.model_selection import train_test_split, cross_val_score\n",
        "from sklearn.naive_bayes import BernoulliNB, MultinomialNB\n",
        "from sklearn.metrics import accuracy_score\n",
        "from scipy.stats import ttest_rel\n",
        "\n",
        "# split del dataset in training e test set\n",
        "X_train, X_test, y_train, y_test = train_test_split(twitter_data, twitter_target, test_size=0.2, random_state=42)\n",
        "\n",
        "# creazione modelli\n",
        "bernoulli_nb = BernoulliNB()\n",
        "multinomial_nb = MultinomialNB()\n",
        "\n",
        "# addestramento modelli\n",
        "bernoulli_nb.fit(X_train, y_train)\n",
        "multinomial_nb.fit(X_train, y_train)\n",
        "\n",
        "# calcolo predizioni\n",
        "y_pred_bernoulli = bernoulli_nb.predict(X_test)\n",
        "y_pred_multinomial = multinomial_nb.predict(X_test)\n",
        "\n",
        "# calcolo accuratezza\n",
        "accuracy_bernoulli = accuracy_score(y_test, y_pred_bernoulli)\n",
        "accuracy_multinomial = accuracy_score(y_test, y_pred_multinomial)\n",
        "\n",
        "# calcolo cross-validation\n",
        "bernulli_score = cross_val_score(bernoulli_nb, X_train, y_train, cv=10)\n",
        "multinomial_score = cross_val_score(multinomial_nb, X_train, y_train, cv=10)\n",
        "\n",
        "# t-test per il confronto dei modelli\n",
        "stat, p_value = ttest_rel(bernulli_score, multinomial_score)\n",
        "\n",
        "# output\n",
        "print(f\"BernoulliNB Accuracy: {accuracy_bernoulli:.4f}\")\n",
        "print(f\"MultinomialNB Accuracy: {accuracy_multinomial:.4f}\")\n",
        "print(f\"cross_validation on bernulli model: {sum(bernulli_score)/len(bernulli_score):.4f}\")\n",
        "print(f\"cross_validation on multinomial model: {sum(multinomial_score)/len(multinomial_score):.4f}\")\n",
        "print(f\"Paired t-test statistic: {stat:.4f}, p-value: {p_value:.4f}\")\n",
        "\n",
        "# interpretazione del p-value\n",
        "if p_value < 0.05:\n",
        "    print(\"The difference between the two models is statistically significant.\")\n",
        "else:\n",
        "    print(\"No significant difference found between the models.\")"
      ],
      "metadata": {
        "colab": {
          "base_uri": "https://localhost:8080/"
        },
        "id": "TLvkim3juNBq",
        "outputId": "bfd32443-edca-4e97-aef8-c6543e2b98c7"
      },
      "execution_count": null,
      "outputs": [
        {
          "output_type": "stream",
          "name": "stdout",
          "text": [
            "BernoulliNB Accuracy: 0.9458\n",
            "MultinomialNB Accuracy: 0.9433\n",
            "cross_validation on bernulli model: 0.9536\n",
            "cross_validation on multinomial model: 0.9513\n",
            "Paired t-test statistic: 1.7921, p-value: 0.1067\n",
            "No significant difference found between the models.\n"
          ]
        }
      ]
    }
  ],
  "metadata": {
    "anaconda-cloud": {},
    "colab": {
      "provenance": []
    },
    "kernelspec": {
      "display_name": "Python [conda env:aaaid]",
      "language": "python",
      "name": "conda-env-aaaid-py"
    },
    "language_info": {
      "codemirror_mode": {
        "name": "ipython",
        "version": 2
      },
      "file_extension": ".py",
      "mimetype": "text/x-python",
      "name": "python",
      "nbconvert_exporter": "python",
      "pygments_lexer": "ipython2",
      "version": "2.7.12"
    }
  },
  "nbformat": 4,
  "nbformat_minor": 0
}